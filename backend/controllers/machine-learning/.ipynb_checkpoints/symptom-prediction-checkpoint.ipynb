{
 "cells": [
  {
   "cell_type": "code",
   "execution_count": 1,
   "metadata": {
    "_cell_guid": "b1076dfc-b9ad-4769-8c92-a6c4dae69d19",
    "_uuid": "8f2839f25d086af736a60e9eeb907d3b93b6e0e5",
    "execution": {
     "iopub.execute_input": "2022-04-10T09:11:16.067324Z",
     "iopub.status.busy": "2022-04-10T09:11:16.066515Z",
     "iopub.status.idle": "2022-04-10T09:11:16.108183Z",
     "shell.execute_reply": "2022-04-10T09:11:16.106614Z",
     "shell.execute_reply.started": "2022-04-10T09:11:16.067207Z"
    }
   },
   "outputs": [],
   "source": [
    "\n",
    "import numpy as np \n",
    "import pandas as pd "
   ]
  },
  {
   "cell_type": "code",
   "execution_count": 2,
   "metadata": {
    "execution": {
     "iopub.execute_input": "2022-04-10T09:11:16.110408Z",
     "iopub.status.busy": "2022-04-10T09:11:16.110156Z",
     "iopub.status.idle": "2022-04-10T09:11:17.78904Z",
     "shell.execute_reply": "2022-04-10T09:11:17.787326Z",
     "shell.execute_reply.started": "2022-04-10T09:11:16.110379Z"
    }
   },
   "outputs": [],
   "source": [
    "import numpy as np\n",
    "import pandas as pd\n",
    "from sklearn.model_selection import train_test_split\n",
    "import matplotlib.pyplot as plt\n",
    "import seaborn as sns\n",
    "import warnings\n",
    "warnings.simplefilter(\"ignore\")"
   ]
  },
  {
   "cell_type": "code",
   "execution_count": 3,
   "metadata": {
    "execution": {
     "iopub.execute_input": "2022-04-10T09:21:58.021161Z",
     "iopub.status.busy": "2022-04-10T09:21:58.020728Z",
     "iopub.status.idle": "2022-04-10T09:21:58.061207Z",
     "shell.execute_reply": "2022-04-10T09:21:58.060268Z",
     "shell.execute_reply.started": "2022-04-10T09:21:58.021122Z"
    }
   },
   "outputs": [
    {
     "data": {
      "text/html": [
       "<div>\n",
       "<style scoped>\n",
       "    .dataframe tbody tr th:only-of-type {\n",
       "        vertical-align: middle;\n",
       "    }\n",
       "\n",
       "    .dataframe tbody tr th {\n",
       "        vertical-align: top;\n",
       "    }\n",
       "\n",
       "    .dataframe thead th {\n",
       "        text-align: right;\n",
       "    }\n",
       "</style>\n",
       "<table border=\"1\" class=\"dataframe\">\n",
       "  <thead>\n",
       "    <tr style=\"text-align: right;\">\n",
       "      <th></th>\n",
       "      <th>Disease</th>\n",
       "      <th>Symptom_1</th>\n",
       "      <th>Symptom_2</th>\n",
       "      <th>Symptom_3</th>\n",
       "      <th>Symptom_4</th>\n",
       "      <th>Symptom_5</th>\n",
       "      <th>Symptom_6</th>\n",
       "      <th>Symptom_7</th>\n",
       "      <th>Symptom_8</th>\n",
       "      <th>Symptom_9</th>\n",
       "      <th>Symptom_10</th>\n",
       "      <th>Symptom_11</th>\n",
       "      <th>Symptom_12</th>\n",
       "      <th>Symptom_13</th>\n",
       "      <th>Symptom_14</th>\n",
       "      <th>Symptom_15</th>\n",
       "      <th>Symptom_16</th>\n",
       "      <th>Symptom_17</th>\n",
       "    </tr>\n",
       "  </thead>\n",
       "  <tbody>\n",
       "    <tr>\n",
       "      <th>0</th>\n",
       "      <td>Fungal infection</td>\n",
       "      <td>itching</td>\n",
       "      <td>skin_rash</td>\n",
       "      <td>nodal_skin_eruptions</td>\n",
       "      <td>dischromic _patches</td>\n",
       "      <td>NaN</td>\n",
       "      <td>NaN</td>\n",
       "      <td>NaN</td>\n",
       "      <td>NaN</td>\n",
       "      <td>NaN</td>\n",
       "      <td>NaN</td>\n",
       "      <td>NaN</td>\n",
       "      <td>NaN</td>\n",
       "      <td>NaN</td>\n",
       "      <td>NaN</td>\n",
       "      <td>NaN</td>\n",
       "      <td>NaN</td>\n",
       "      <td>NaN</td>\n",
       "    </tr>\n",
       "    <tr>\n",
       "      <th>1</th>\n",
       "      <td>Fungal infection</td>\n",
       "      <td>skin_rash</td>\n",
       "      <td>nodal_skin_eruptions</td>\n",
       "      <td>dischromic _patches</td>\n",
       "      <td>NaN</td>\n",
       "      <td>NaN</td>\n",
       "      <td>NaN</td>\n",
       "      <td>NaN</td>\n",
       "      <td>NaN</td>\n",
       "      <td>NaN</td>\n",
       "      <td>NaN</td>\n",
       "      <td>NaN</td>\n",
       "      <td>NaN</td>\n",
       "      <td>NaN</td>\n",
       "      <td>NaN</td>\n",
       "      <td>NaN</td>\n",
       "      <td>NaN</td>\n",
       "      <td>NaN</td>\n",
       "    </tr>\n",
       "    <tr>\n",
       "      <th>2</th>\n",
       "      <td>Fungal infection</td>\n",
       "      <td>itching</td>\n",
       "      <td>nodal_skin_eruptions</td>\n",
       "      <td>dischromic _patches</td>\n",
       "      <td>NaN</td>\n",
       "      <td>NaN</td>\n",
       "      <td>NaN</td>\n",
       "      <td>NaN</td>\n",
       "      <td>NaN</td>\n",
       "      <td>NaN</td>\n",
       "      <td>NaN</td>\n",
       "      <td>NaN</td>\n",
       "      <td>NaN</td>\n",
       "      <td>NaN</td>\n",
       "      <td>NaN</td>\n",
       "      <td>NaN</td>\n",
       "      <td>NaN</td>\n",
       "      <td>NaN</td>\n",
       "    </tr>\n",
       "    <tr>\n",
       "      <th>3</th>\n",
       "      <td>Fungal infection</td>\n",
       "      <td>itching</td>\n",
       "      <td>skin_rash</td>\n",
       "      <td>dischromic _patches</td>\n",
       "      <td>NaN</td>\n",
       "      <td>NaN</td>\n",
       "      <td>NaN</td>\n",
       "      <td>NaN</td>\n",
       "      <td>NaN</td>\n",
       "      <td>NaN</td>\n",
       "      <td>NaN</td>\n",
       "      <td>NaN</td>\n",
       "      <td>NaN</td>\n",
       "      <td>NaN</td>\n",
       "      <td>NaN</td>\n",
       "      <td>NaN</td>\n",
       "      <td>NaN</td>\n",
       "      <td>NaN</td>\n",
       "    </tr>\n",
       "    <tr>\n",
       "      <th>4</th>\n",
       "      <td>Fungal infection</td>\n",
       "      <td>itching</td>\n",
       "      <td>skin_rash</td>\n",
       "      <td>nodal_skin_eruptions</td>\n",
       "      <td>NaN</td>\n",
       "      <td>NaN</td>\n",
       "      <td>NaN</td>\n",
       "      <td>NaN</td>\n",
       "      <td>NaN</td>\n",
       "      <td>NaN</td>\n",
       "      <td>NaN</td>\n",
       "      <td>NaN</td>\n",
       "      <td>NaN</td>\n",
       "      <td>NaN</td>\n",
       "      <td>NaN</td>\n",
       "      <td>NaN</td>\n",
       "      <td>NaN</td>\n",
       "      <td>NaN</td>\n",
       "    </tr>\n",
       "  </tbody>\n",
       "</table>\n",
       "</div>"
      ],
      "text/plain": [
       "            Disease   Symptom_1              Symptom_2              Symptom_3  \\\n",
       "0  Fungal infection     itching              skin_rash   nodal_skin_eruptions   \n",
       "1  Fungal infection   skin_rash   nodal_skin_eruptions    dischromic _patches   \n",
       "2  Fungal infection     itching   nodal_skin_eruptions    dischromic _patches   \n",
       "3  Fungal infection     itching              skin_rash    dischromic _patches   \n",
       "4  Fungal infection     itching              skin_rash   nodal_skin_eruptions   \n",
       "\n",
       "              Symptom_4 Symptom_5 Symptom_6 Symptom_7 Symptom_8 Symptom_9  \\\n",
       "0   dischromic _patches       NaN       NaN       NaN       NaN       NaN   \n",
       "1                   NaN       NaN       NaN       NaN       NaN       NaN   \n",
       "2                   NaN       NaN       NaN       NaN       NaN       NaN   \n",
       "3                   NaN       NaN       NaN       NaN       NaN       NaN   \n",
       "4                   NaN       NaN       NaN       NaN       NaN       NaN   \n",
       "\n",
       "  Symptom_10 Symptom_11 Symptom_12 Symptom_13 Symptom_14 Symptom_15  \\\n",
       "0        NaN        NaN        NaN        NaN        NaN        NaN   \n",
       "1        NaN        NaN        NaN        NaN        NaN        NaN   \n",
       "2        NaN        NaN        NaN        NaN        NaN        NaN   \n",
       "3        NaN        NaN        NaN        NaN        NaN        NaN   \n",
       "4        NaN        NaN        NaN        NaN        NaN        NaN   \n",
       "\n",
       "  Symptom_16 Symptom_17  \n",
       "0        NaN        NaN  \n",
       "1        NaN        NaN  \n",
       "2        NaN        NaN  \n",
       "3        NaN        NaN  \n",
       "4        NaN        NaN  "
      ]
     },
     "execution_count": 3,
     "metadata": {},
     "output_type": "execute_result"
    }
   ],
   "source": [
    "df = pd.read_csv('dataset.csv')\n",
    "df.head()"
   ]
  },
  {
   "cell_type": "code",
   "execution_count": 4,
   "metadata": {
    "execution": {
     "iopub.execute_input": "2022-04-10T09:21:58.705551Z",
     "iopub.status.busy": "2022-04-10T09:21:58.705287Z",
     "iopub.status.idle": "2022-04-10T09:21:58.712207Z",
     "shell.execute_reply": "2022-04-10T09:21:58.711116Z",
     "shell.execute_reply.started": "2022-04-10T09:21:58.705525Z"
    }
   },
   "outputs": [],
   "source": [
    "df.drop(['Symptom_8','Symptom_9','Symptom_10','Symptom_11','Symptom_12','Symptom_13','Symptom_14','Symptom_15','Symptom_16','Symptom_17'],axis=1,inplace=True)"
   ]
  },
  {
   "cell_type": "code",
   "execution_count": 5,
   "metadata": {
    "execution": {
     "iopub.execute_input": "2022-04-10T09:21:59.964181Z",
     "iopub.status.busy": "2022-04-10T09:21:59.963865Z",
     "iopub.status.idle": "2022-04-10T09:21:59.969823Z",
     "shell.execute_reply": "2022-04-10T09:21:59.968873Z",
     "shell.execute_reply.started": "2022-04-10T09:21:59.96415Z"
    }
   },
   "outputs": [
    {
     "data": {
      "text/plain": [
       "(4920, 8)"
      ]
     },
     "execution_count": 5,
     "metadata": {},
     "output_type": "execute_result"
    }
   ],
   "source": [
    "df.shape"
   ]
  },
  {
   "cell_type": "markdown",
   "metadata": {},
   "source": [
    "**Check Null Values**"
   ]
  },
  {
   "cell_type": "code",
   "execution_count": 6,
   "metadata": {
    "execution": {
     "iopub.execute_input": "2022-04-10T09:11:17.900973Z",
     "iopub.status.busy": "2022-04-10T09:11:17.900569Z",
     "iopub.status.idle": "2022-04-10T09:11:17.922222Z",
     "shell.execute_reply": "2022-04-10T09:11:17.921212Z",
     "shell.execute_reply.started": "2022-04-10T09:11:17.900935Z"
    }
   },
   "outputs": [
    {
     "data": {
      "text/plain": [
       "Disease         0\n",
       "Symptom_1       0\n",
       "Symptom_2       0\n",
       "Symptom_3       0\n",
       "Symptom_4     348\n",
       "Symptom_5    1206\n",
       "Symptom_6    1986\n",
       "Symptom_7    2652\n",
       "dtype: int64"
      ]
     },
     "execution_count": 6,
     "metadata": {},
     "output_type": "execute_result"
    }
   ],
   "source": [
    "df.isna().sum()"
   ]
  },
  {
   "cell_type": "code",
   "execution_count": 7,
   "metadata": {
    "execution": {
     "iopub.execute_input": "2022-04-10T09:11:17.925237Z",
     "iopub.status.busy": "2022-04-10T09:11:17.924143Z",
     "iopub.status.idle": "2022-04-10T09:11:17.943513Z",
     "shell.execute_reply": "2022-04-10T09:11:17.942675Z",
     "shell.execute_reply.started": "2022-04-10T09:11:17.925181Z"
    }
   },
   "outputs": [
    {
     "data": {
      "text/plain": [
       "Disease       0.000000\n",
       "Symptom_1     0.000000\n",
       "Symptom_2     0.000000\n",
       "Symptom_3     0.000000\n",
       "Symptom_4     7.073171\n",
       "Symptom_5    24.512195\n",
       "Symptom_6    40.365854\n",
       "Symptom_7    53.902439\n",
       "dtype: float64"
      ]
     },
     "execution_count": 7,
     "metadata": {},
     "output_type": "execute_result"
    }
   ],
   "source": [
    "# Percentage of Missing Values\n",
    "(df.isnull().sum()/df.shape[0])*100"
   ]
  },
  {
   "cell_type": "code",
   "execution_count": 8,
   "metadata": {
    "execution": {
     "iopub.execute_input": "2022-04-10T09:11:17.945602Z",
     "iopub.status.busy": "2022-04-10T09:11:17.944868Z",
     "iopub.status.idle": "2022-04-10T09:11:18.935984Z",
     "shell.execute_reply": "2022-04-10T09:11:18.93465Z",
     "shell.execute_reply.started": "2022-04-10T09:11:17.945544Z"
    }
   },
   "outputs": [
    {
     "data": {
      "text/plain": [
       "<AxesSubplot:>"
      ]
     },
     "execution_count": 8,
     "metadata": {},
     "output_type": "execute_result"
    },
    {
     "data": {
      "image/png": "[encoded data removed]",
      "text/plain": [
       "<Figure size 648x720 with 1 Axes>"
      ]
     },
     "metadata": {
      "needs_background": "light"
     },
     "output_type": "display_data"
    }
   ],
   "source": [
    "plt.figure(figsize=(9,10))\n",
    "sns.heatmap(df.isnull(),cbar=False)"
   ]
  },
  {
   "cell_type": "code",
   "execution_count": 9,
   "metadata": {
    "execution": {
     "iopub.execute_input": "2022-04-10T09:11:18.938084Z",
     "iopub.status.busy": "2022-04-10T09:11:18.937707Z",
     "iopub.status.idle": "2022-04-10T09:11:18.947719Z",
     "shell.execute_reply": "2022-04-10T09:11:18.945947Z",
     "shell.execute_reply.started": "2022-04-10T09:11:18.938011Z"
    }
   },
   "outputs": [
    {
     "data": {
      "text/plain": [
       "Index(['Disease', 'Symptom_1', 'Symptom_2', 'Symptom_3', 'Symptom_4',\n",
       "       'Symptom_5', 'Symptom_6', 'Symptom_7'],\n",
       "      dtype='object')"
      ]
     },
     "execution_count": 9,
     "metadata": {},
     "output_type": "execute_result"
    }
   ],
   "source": [
    "df.columns"
   ]
  },
  {
   "cell_type": "code",
   "execution_count": 10,
   "metadata": {
    "execution": {
     "iopub.execute_input": "2022-04-10T09:11:18.949924Z",
     "iopub.status.busy": "2022-04-10T09:11:18.94953Z",
     "iopub.status.idle": "2022-04-10T09:11:18.99558Z",
     "shell.execute_reply": "2022-04-10T09:11:18.99478Z",
     "shell.execute_reply.started": "2022-04-10T09:11:18.949877Z"
    }
   },
   "outputs": [
    {
     "data": {
      "text/html": [
       "<div>\n",
       "<style scoped>\n",
       "    .dataframe tbody tr th:only-of-type {\n",
       "        vertical-align: middle;\n",
       "    }\n",
       "\n",
       "    .dataframe tbody tr th {\n",
       "        vertical-align: top;\n",
       "    }\n",
       "\n",
       "    .dataframe thead th {\n",
       "        text-align: right;\n",
       "    }\n",
       "</style>\n",
       "<table border=\"1\" class=\"dataframe\">\n",
       "  <thead>\n",
       "    <tr style=\"text-align: right;\">\n",
       "      <th></th>\n",
       "      <th>count</th>\n",
       "      <th>unique</th>\n",
       "      <th>top</th>\n",
       "      <th>freq</th>\n",
       "    </tr>\n",
       "  </thead>\n",
       "  <tbody>\n",
       "    <tr>\n",
       "      <th>Disease</th>\n",
       "      <td>4920</td>\n",
       "      <td>41</td>\n",
       "      <td>Fungal infection</td>\n",
       "      <td>120</td>\n",
       "    </tr>\n",
       "    <tr>\n",
       "      <th>Symptom_1</th>\n",
       "      <td>4920</td>\n",
       "      <td>34</td>\n",
       "      <td>vomiting</td>\n",
       "      <td>822</td>\n",
       "    </tr>\n",
       "    <tr>\n",
       "      <th>Symptom_2</th>\n",
       "      <td>4920</td>\n",
       "      <td>48</td>\n",
       "      <td>vomiting</td>\n",
       "      <td>870</td>\n",
       "    </tr>\n",
       "    <tr>\n",
       "      <th>Symptom_3</th>\n",
       "      <td>4920</td>\n",
       "      <td>54</td>\n",
       "      <td>fatigue</td>\n",
       "      <td>726</td>\n",
       "    </tr>\n",
       "    <tr>\n",
       "      <th>Symptom_4</th>\n",
       "      <td>4572</td>\n",
       "      <td>50</td>\n",
       "      <td>high_fever</td>\n",
       "      <td>378</td>\n",
       "    </tr>\n",
       "    <tr>\n",
       "      <th>Symptom_5</th>\n",
       "      <td>3714</td>\n",
       "      <td>38</td>\n",
       "      <td>headache</td>\n",
       "      <td>348</td>\n",
       "    </tr>\n",
       "    <tr>\n",
       "      <th>Symptom_6</th>\n",
       "      <td>2934</td>\n",
       "      <td>32</td>\n",
       "      <td>nausea</td>\n",
       "      <td>390</td>\n",
       "    </tr>\n",
       "    <tr>\n",
       "      <th>Symptom_7</th>\n",
       "      <td>2268</td>\n",
       "      <td>26</td>\n",
       "      <td>abdominal_pain</td>\n",
       "      <td>264</td>\n",
       "    </tr>\n",
       "  </tbody>\n",
       "</table>\n",
       "</div>"
      ],
      "text/plain": [
       "          count unique               top freq\n",
       "Disease    4920     41  Fungal infection  120\n",
       "Symptom_1  4920     34          vomiting  822\n",
       "Symptom_2  4920     48          vomiting  870\n",
       "Symptom_3  4920     54           fatigue  726\n",
       "Symptom_4  4572     50        high_fever  378\n",
       "Symptom_5  3714     38          headache  348\n",
       "Symptom_6  2934     32            nausea  390\n",
       "Symptom_7  2268     26    abdominal_pain  264"
      ]
     },
     "execution_count": 10,
     "metadata": {},
     "output_type": "execute_result"
    }
   ],
   "source": [
    "df.describe().T"
   ]
  },
  {
   "cell_type": "code",
   "execution_count": 11,
   "metadata": {
    "execution": {
     "iopub.execute_input": "2022-04-10T09:11:18.998802Z",
     "iopub.status.busy": "2022-04-10T09:11:18.997782Z",
     "iopub.status.idle": "2022-04-10T09:11:19.023185Z",
     "shell.execute_reply": "2022-04-10T09:11:19.022313Z",
     "shell.execute_reply.started": "2022-04-10T09:11:18.99876Z"
    }
   },
   "outputs": [],
   "source": [
    "#Remove Hyphen\n",
    "for col in df.columns:\n",
    "    df[col]= df[col].str.replace('_',' ')"
   ]
  },
  {
   "cell_type": "code",
   "execution_count": 12,
   "metadata": {
    "execution": {
     "iopub.execute_input": "2022-04-10T09:11:19.025902Z",
     "iopub.status.busy": "2022-04-10T09:11:19.024616Z",
     "iopub.status.idle": "2022-04-10T09:11:19.06126Z",
     "shell.execute_reply": "2022-04-10T09:11:19.060058Z",
     "shell.execute_reply.started": "2022-04-10T09:11:19.025844Z"
    }
   },
   "outputs": [
    {
     "data": {
      "text/html": [
       "<div>\n",
       "<style scoped>\n",
       "    .dataframe tbody tr th:only-of-type {\n",
       "        vertical-align: middle;\n",
       "    }\n",
       "\n",
       "    .dataframe tbody tr th {\n",
       "        vertical-align: top;\n",
       "    }\n",
       "\n",
       "    .dataframe thead th {\n",
       "        text-align: right;\n",
       "    }\n",
       "</style>\n",
       "<table border=\"1\" class=\"dataframe\">\n",
       "  <thead>\n",
       "    <tr style=\"text-align: right;\">\n",
       "      <th></th>\n",
       "      <th>Disease</th>\n",
       "      <th>Symptom_1</th>\n",
       "      <th>Symptom_2</th>\n",
       "      <th>Symptom_3</th>\n",
       "      <th>Symptom_4</th>\n",
       "      <th>Symptom_5</th>\n",
       "      <th>Symptom_6</th>\n",
       "      <th>Symptom_7</th>\n",
       "    </tr>\n",
       "  </thead>\n",
       "  <tbody>\n",
       "    <tr>\n",
       "      <th>0</th>\n",
       "      <td>Fungal infection</td>\n",
       "      <td>itching</td>\n",
       "      <td>skin rash</td>\n",
       "      <td>nodal skin eruptions</td>\n",
       "      <td>dischromic  patches</td>\n",
       "      <td>NaN</td>\n",
       "      <td>NaN</td>\n",
       "      <td>NaN</td>\n",
       "    </tr>\n",
       "    <tr>\n",
       "      <th>1</th>\n",
       "      <td>Fungal infection</td>\n",
       "      <td>skin rash</td>\n",
       "      <td>nodal skin eruptions</td>\n",
       "      <td>dischromic  patches</td>\n",
       "      <td>NaN</td>\n",
       "      <td>NaN</td>\n",
       "      <td>NaN</td>\n",
       "      <td>NaN</td>\n",
       "    </tr>\n",
       "    <tr>\n",
       "      <th>2</th>\n",
       "      <td>Fungal infection</td>\n",
       "      <td>itching</td>\n",
       "      <td>nodal skin eruptions</td>\n",
       "      <td>dischromic  patches</td>\n",
       "      <td>NaN</td>\n",
       "      <td>NaN</td>\n",
       "      <td>NaN</td>\n",
       "      <td>NaN</td>\n",
       "    </tr>\n",
       "    <tr>\n",
       "      <th>3</th>\n",
       "      <td>Fungal infection</td>\n",
       "      <td>itching</td>\n",
       "      <td>skin rash</td>\n",
       "      <td>dischromic  patches</td>\n",
       "      <td>NaN</td>\n",
       "      <td>NaN</td>\n",
       "      <td>NaN</td>\n",
       "      <td>NaN</td>\n",
       "    </tr>\n",
       "    <tr>\n",
       "      <th>4</th>\n",
       "      <td>Fungal infection</td>\n",
       "      <td>itching</td>\n",
       "      <td>skin rash</td>\n",
       "      <td>nodal skin eruptions</td>\n",
       "      <td>NaN</td>\n",
       "      <td>NaN</td>\n",
       "      <td>NaN</td>\n",
       "      <td>NaN</td>\n",
       "    </tr>\n",
       "  </tbody>\n",
       "</table>\n",
       "</div>"
      ],
      "text/plain": [
       "            Disease  Symptom_1             Symptom_2             Symptom_3  \\\n",
       "0  Fungal infection    itching             skin rash  nodal skin eruptions   \n",
       "1  Fungal infection  skin rash  nodal skin eruptions   dischromic  patches   \n",
       "2  Fungal infection    itching  nodal skin eruptions   dischromic  patches   \n",
       "3  Fungal infection    itching             skin rash   dischromic  patches   \n",
       "4  Fungal infection    itching             skin rash  nodal skin eruptions   \n",
       "\n",
       "             Symptom_4 Symptom_5 Symptom_6 Symptom_7  \n",
       "0  dischromic  patches       NaN       NaN       NaN  \n",
       "1                  NaN       NaN       NaN       NaN  \n",
       "2                  NaN       NaN       NaN       NaN  \n",
       "3                  NaN       NaN       NaN       NaN  \n",
       "4                  NaN       NaN       NaN       NaN  "
      ]
     },
     "execution_count": 12,
     "metadata": {},
     "output_type": "execute_result"
    }
   ],
   "source": [
    "cols = df.columns\n",
    "\n",
    "data = df[cols].values.flatten()\n",
    "\n",
    "reshaped = pd.Series(data)\n",
    "reshaped = reshaped.str.strip()\n",
    "reshaped = reshaped.values.reshape(df.shape)\n",
    "\n",
    "df = pd.DataFrame(reshaped, columns = df.columns)\n",
    "df.head()"
   ]
  },
  {
   "cell_type": "markdown",
   "metadata": {},
   "source": [
    "**Replacing Null Values**"
   ]
  },
  {
   "cell_type": "code",
   "execution_count": 13,
   "metadata": {
    "execution": {
     "iopub.execute_input": "2022-04-10T09:11:19.064077Z",
     "iopub.status.busy": "2022-04-10T09:11:19.062842Z",
     "iopub.status.idle": "2022-04-10T09:11:19.090868Z",
     "shell.execute_reply": "2022-04-10T09:11:19.089513Z",
     "shell.execute_reply.started": "2022-04-10T09:11:19.063978Z"
    }
   },
   "outputs": [
    {
     "data": {
      "text/html": [
       "<div>\n",
       "<style scoped>\n",
       "    .dataframe tbody tr th:only-of-type {\n",
       "        vertical-align: middle;\n",
       "    }\n",
       "\n",
       "    .dataframe tbody tr th {\n",
       "        vertical-align: top;\n",
       "    }\n",
       "\n",
       "    .dataframe thead th {\n",
       "        text-align: right;\n",
       "    }\n",
       "</style>\n",
       "<table border=\"1\" class=\"dataframe\">\n",
       "  <thead>\n",
       "    <tr style=\"text-align: right;\">\n",
       "      <th></th>\n",
       "      <th>Disease</th>\n",
       "      <th>Symptom_1</th>\n",
       "      <th>Symptom_2</th>\n",
       "      <th>Symptom_3</th>\n",
       "      <th>Symptom_4</th>\n",
       "      <th>Symptom_5</th>\n",
       "      <th>Symptom_6</th>\n",
       "      <th>Symptom_7</th>\n",
       "    </tr>\n",
       "  </thead>\n",
       "  <tbody>\n",
       "    <tr>\n",
       "      <th>0</th>\n",
       "      <td>Fungal infection</td>\n",
       "      <td>itching</td>\n",
       "      <td>skin rash</td>\n",
       "      <td>nodal skin eruptions</td>\n",
       "      <td>dischromic  patches</td>\n",
       "      <td>0</td>\n",
       "      <td>0</td>\n",
       "      <td>0</td>\n",
       "    </tr>\n",
       "    <tr>\n",
       "      <th>1</th>\n",
       "      <td>Fungal infection</td>\n",
       "      <td>skin rash</td>\n",
       "      <td>nodal skin eruptions</td>\n",
       "      <td>dischromic  patches</td>\n",
       "      <td>0</td>\n",
       "      <td>0</td>\n",
       "      <td>0</td>\n",
       "      <td>0</td>\n",
       "    </tr>\n",
       "    <tr>\n",
       "      <th>2</th>\n",
       "      <td>Fungal infection</td>\n",
       "      <td>itching</td>\n",
       "      <td>nodal skin eruptions</td>\n",
       "      <td>dischromic  patches</td>\n",
       "      <td>0</td>\n",
       "      <td>0</td>\n",
       "      <td>0</td>\n",
       "      <td>0</td>\n",
       "    </tr>\n",
       "    <tr>\n",
       "      <th>3</th>\n",
       "      <td>Fungal infection</td>\n",
       "      <td>itching</td>\n",
       "      <td>skin rash</td>\n",
       "      <td>dischromic  patches</td>\n",
       "      <td>0</td>\n",
       "      <td>0</td>\n",
       "      <td>0</td>\n",
       "      <td>0</td>\n",
       "    </tr>\n",
       "    <tr>\n",
       "      <th>4</th>\n",
       "      <td>Fungal infection</td>\n",
       "      <td>itching</td>\n",
       "      <td>skin rash</td>\n",
       "      <td>nodal skin eruptions</td>\n",
       "      <td>0</td>\n",
       "      <td>0</td>\n",
       "      <td>0</td>\n",
       "      <td>0</td>\n",
       "    </tr>\n",
       "  </tbody>\n",
       "</table>\n",
       "</div>"
      ],
      "text/plain": [
       "            Disease  Symptom_1             Symptom_2             Symptom_3  \\\n",
       "0  Fungal infection    itching             skin rash  nodal skin eruptions   \n",
       "1  Fungal infection  skin rash  nodal skin eruptions   dischromic  patches   \n",
       "2  Fungal infection    itching  nodal skin eruptions   dischromic  patches   \n",
       "3  Fungal infection    itching             skin rash   dischromic  patches   \n",
       "4  Fungal infection    itching             skin rash  nodal skin eruptions   \n",
       "\n",
       "             Symptom_4 Symptom_5 Symptom_6 Symptom_7  \n",
       "0  dischromic  patches         0         0         0  \n",
       "1                    0         0         0         0  \n",
       "2                    0         0         0         0  \n",
       "3                    0         0         0         0  \n",
       "4                    0         0         0         0  "
      ]
     },
     "execution_count": 13,
     "metadata": {},
     "output_type": "execute_result"
    }
   ],
   "source": [
    "df.fillna(0,inplace=True)\n",
    "df.head()"
   ]
  },
  {
   "cell_type": "code",
   "execution_count": null,
   "metadata": {
    "execution": {
     "iopub.execute_input": "2022-04-10T09:11:19.093254Z",
     "iopub.status.busy": "2022-04-10T09:11:19.092819Z",
     "iopub.status.idle": "2022-04-10T09:11:19.113585Z",
     "shell.execute_reply": "2022-04-10T09:11:19.112136Z",
     "shell.execute_reply.started": "2022-04-10T09:11:19.093205Z"
    }
   },
   "outputs": [],
   "source": [
    "df.isna().sum()"
   ]
  },
  {
   "cell_type": "code",
   "execution_count": null,
   "metadata": {
    "execution": {
     "iopub.execute_input": "2022-04-10T09:11:19.116742Z",
     "iopub.status.busy": "2022-04-10T09:11:19.11571Z",
     "iopub.status.idle": "2022-04-10T09:11:19.131131Z",
     "shell.execute_reply": "2022-04-10T09:11:19.130444Z",
     "shell.execute_reply.started": "2022-04-10T09:11:19.116696Z"
    }
   },
   "outputs": [],
   "source": [
    "df['Disease'].value_counts()"
   ]
  },
  {
   "cell_type": "markdown",
   "metadata": {},
   "source": [
    "**Importing Symptoms Dataset**"
   ]
  },
  {
   "cell_type": "code",
   "execution_count": null,
   "metadata": {
    "execution": {
     "iopub.execute_input": "2022-04-10T09:11:19.133076Z",
     "iopub.status.busy": "2022-04-10T09:11:19.132245Z",
     "iopub.status.idle": "2022-04-10T09:11:19.165013Z",
     "shell.execute_reply": "2022-04-10T09:11:19.163545Z",
     "shell.execute_reply.started": "2022-04-10T09:11:19.132996Z"
    }
   },
   "outputs": [],
   "source": [
    "df_s = pd.read_csv('../input/disease-symptom-description-dataset/Symptom-severity.csv')\n",
    "df_s.head()"
   ]
  },
  {
   "cell_type": "code",
   "execution_count": null,
   "metadata": {
    "execution": {
     "iopub.execute_input": "2022-04-10T09:11:19.166845Z",
     "iopub.status.busy": "2022-04-10T09:11:19.166586Z",
     "iopub.status.idle": "2022-04-10T09:11:19.172794Z",
     "shell.execute_reply": "2022-04-10T09:11:19.172187Z",
     "shell.execute_reply.started": "2022-04-10T09:11:19.166813Z"
    }
   },
   "outputs": [],
   "source": [
    "# Remove Hyphen\n",
    "df_s['Symptom']=df_s['Symptom'].str.replace('_',' ')"
   ]
  },
  {
   "cell_type": "code",
   "execution_count": null,
   "metadata": {
    "execution": {
     "iopub.execute_input": "2022-04-10T09:11:19.174497Z",
     "iopub.status.busy": "2022-04-10T09:11:19.173772Z",
     "iopub.status.idle": "2022-04-10T09:11:19.193471Z",
     "shell.execute_reply": "2022-04-10T09:11:19.192397Z",
     "shell.execute_reply.started": "2022-04-10T09:11:19.174455Z"
    }
   },
   "outputs": [],
   "source": [
    "df_s['Symptom'].unique()"
   ]
  },
  {
   "cell_type": "code",
   "execution_count": null,
   "metadata": {
    "execution": {
     "iopub.execute_input": "2022-04-10T09:11:19.195162Z",
     "iopub.status.busy": "2022-04-10T09:11:19.194634Z",
     "iopub.status.idle": "2022-04-10T09:11:19.210894Z",
     "shell.execute_reply": "2022-04-10T09:11:19.210103Z",
     "shell.execute_reply.started": "2022-04-10T09:11:19.195117Z"
    }
   },
   "outputs": [],
   "source": [
    "a= np.array(df_s['weight'])\n",
    "a"
   ]
  },
  {
   "cell_type": "markdown",
   "metadata": {},
   "source": [
    "**Encoding Symptoms**"
   ]
  },
  {
   "cell_type": "code",
   "execution_count": null,
   "metadata": {
    "execution": {
     "iopub.execute_input": "2022-04-10T09:11:19.212355Z",
     "iopub.status.busy": "2022-04-10T09:11:19.212124Z",
     "iopub.status.idle": "2022-04-10T09:11:26.850716Z",
     "shell.execute_reply": "2022-04-10T09:11:26.849795Z",
     "shell.execute_reply.started": "2022-04-10T09:11:19.212327Z"
    }
   },
   "outputs": [],
   "source": [
    "vals = df.values\n",
    "symptoms = df_s['Symptom'].unique()\n",
    "\n",
    "for i in range(len(symptoms)):\n",
    "    vals[vals == symptoms[i]] = df_s[df_s['Symptom'] == symptoms[i]]['weight'].values[0]\n",
    "    \n",
    "newdf = pd.DataFrame(vals, columns=cols)\n",
    "newdf.head()"
   ]
  },
  {
   "cell_type": "markdown",
   "metadata": {},
   "source": [
    "**No Symptoms assiging zero**"
   ]
  },
  {
   "cell_type": "code",
   "execution_count": null,
   "metadata": {
    "execution": {
     "iopub.execute_input": "2022-04-10T09:11:26.852563Z",
     "iopub.status.busy": "2022-04-10T09:11:26.852275Z",
     "iopub.status.idle": "2022-04-10T09:11:27.040054Z",
     "shell.execute_reply": "2022-04-10T09:11:27.038641Z",
     "shell.execute_reply.started": "2022-04-10T09:11:26.852533Z"
    }
   },
   "outputs": [],
   "source": [
    "newdf = newdf.replace('dischromic  patches', 0)\n",
    "newdf = newdf.replace('spotting  urination',0)\n",
    "newdf = newdf.replace('foul smell of urine',0)\n",
    "newdf.head(10)"
   ]
  },
  {
   "cell_type": "markdown",
   "metadata": {},
   "source": [
    "**Selection of features for Training Purpose**"
   ]
  },
  {
   "cell_type": "code",
   "execution_count": null,
   "metadata": {
    "execution": {
     "iopub.execute_input": "2022-04-10T09:11:27.041639Z",
     "iopub.status.busy": "2022-04-10T09:11:27.04132Z",
     "iopub.status.idle": "2022-04-10T09:11:27.047894Z",
     "shell.execute_reply": "2022-04-10T09:11:27.047264Z",
     "shell.execute_reply.started": "2022-04-10T09:11:27.041605Z"
    }
   },
   "outputs": [],
   "source": [
    "X = newdf.drop(['Disease'],axis=1)\n",
    "y = newdf['Disease']"
   ]
  },
  {
   "cell_type": "code",
   "execution_count": null,
   "metadata": {
    "execution": {
     "iopub.execute_input": "2022-04-10T09:11:27.049397Z",
     "iopub.status.busy": "2022-04-10T09:11:27.048978Z",
     "iopub.status.idle": "2022-04-10T09:11:27.066712Z",
     "shell.execute_reply": "2022-04-10T09:11:27.066016Z",
     "shell.execute_reply.started": "2022-04-10T09:11:27.049363Z"
    }
   },
   "outputs": [],
   "source": [
    "X.head()"
   ]
  },
  {
   "cell_type": "code",
   "execution_count": null,
   "metadata": {
    "execution": {
     "iopub.execute_input": "2022-04-10T09:11:27.067818Z",
     "iopub.status.busy": "2022-04-10T09:11:27.067608Z",
     "iopub.status.idle": "2022-04-10T09:11:27.084184Z",
     "shell.execute_reply": "2022-04-10T09:11:27.083563Z",
     "shell.execute_reply.started": "2022-04-10T09:11:27.067792Z"
    }
   },
   "outputs": [],
   "source": [
    "y.sample(6)"
   ]
  },
  {
   "cell_type": "markdown",
   "metadata": {},
   "source": [
    "**Splitting the dataset**"
   ]
  },
  {
   "cell_type": "code",
   "execution_count": null,
   "metadata": {
    "execution": {
     "iopub.execute_input": "2022-04-10T09:11:27.08591Z",
     "iopub.status.busy": "2022-04-10T09:11:27.085253Z",
     "iopub.status.idle": "2022-04-10T09:11:27.173683Z",
     "shell.execute_reply": "2022-04-10T09:11:27.172867Z",
     "shell.execute_reply.started": "2022-04-10T09:11:27.085873Z"
    }
   },
   "outputs": [],
   "source": [
    "from sklearn.metrics import confusion_matrix,accuracy_score,classification_report,roc_auc_score\n",
    "from sklearn.svm import SVC"
   ]
  },
  {
   "cell_type": "code",
   "execution_count": null,
   "metadata": {
    "execution": {
     "iopub.execute_input": "2022-04-10T09:11:27.175672Z",
     "iopub.status.busy": "2022-04-10T09:11:27.175226Z",
     "iopub.status.idle": "2022-04-10T09:11:27.189905Z",
     "shell.execute_reply": "2022-04-10T09:11:27.189296Z",
     "shell.execute_reply.started": "2022-04-10T09:11:27.175621Z"
    }
   },
   "outputs": [],
   "source": [
    "X_train,X_test,y_train,y_test = train_test_split(X,y,test_size = 0.2,stratify=y,random_state=0)"
   ]
  },
  {
   "cell_type": "code",
   "execution_count": null,
   "metadata": {
    "execution": {
     "iopub.execute_input": "2022-04-10T09:11:27.191486Z",
     "iopub.status.busy": "2022-04-10T09:11:27.191171Z",
     "iopub.status.idle": "2022-04-10T09:11:27.345871Z",
     "shell.execute_reply": "2022-04-10T09:11:27.344921Z",
     "shell.execute_reply.started": "2022-04-10T09:11:27.191454Z"
    }
   },
   "outputs": [],
   "source": [
    "clf_svc= SVC()\n",
    "clf_svc.fit(X_train,y_train)"
   ]
  },
  {
   "cell_type": "code",
   "execution_count": null,
   "metadata": {
    "execution": {
     "iopub.execute_input": "2022-04-10T09:11:27.347611Z",
     "iopub.status.busy": "2022-04-10T09:11:27.347398Z",
     "iopub.status.idle": "2022-04-10T09:11:27.516933Z",
     "shell.execute_reply": "2022-04-10T09:11:27.516116Z",
     "shell.execute_reply.started": "2022-04-10T09:11:27.347585Z"
    }
   },
   "outputs": [],
   "source": [
    "predict = clf_svc.predict(X_test)"
   ]
  },
  {
   "cell_type": "code",
   "execution_count": null,
   "metadata": {
    "execution": {
     "iopub.execute_input": "2022-04-10T09:11:27.52223Z",
     "iopub.status.busy": "2022-04-10T09:11:27.521932Z",
     "iopub.status.idle": "2022-04-10T09:11:27.528705Z",
     "shell.execute_reply": "2022-04-10T09:11:27.527833Z",
     "shell.execute_reply.started": "2022-04-10T09:11:27.522197Z"
    }
   },
   "outputs": [],
   "source": [
    "print('Accuracy Score: {}%'.format(round(accuracy_score(y_test,predict)*100,2)))"
   ]
  },
  {
   "cell_type": "code",
   "execution_count": null,
   "metadata": {
    "execution": {
     "iopub.execute_input": "2022-04-10T09:11:27.530778Z",
     "iopub.status.busy": "2022-04-10T09:11:27.530463Z",
     "iopub.status.idle": "2022-04-10T09:11:27.572722Z",
     "shell.execute_reply": "2022-04-10T09:11:27.571844Z",
     "shell.execute_reply.started": "2022-04-10T09:11:27.530733Z"
    }
   },
   "outputs": [],
   "source": [
    "print(classification_report(y_test,predict))"
   ]
  },
  {
   "cell_type": "code",
   "execution_count": null,
   "metadata": {
    "execution": {
     "iopub.execute_input": "2022-04-10T09:11:27.574438Z",
     "iopub.status.busy": "2022-04-10T09:11:27.574226Z",
     "iopub.status.idle": "2022-04-10T09:11:33.794399Z",
     "shell.execute_reply": "2022-04-10T09:11:33.793494Z",
     "shell.execute_reply.started": "2022-04-10T09:11:27.574412Z"
    }
   },
   "outputs": [],
   "source": [
    "plt.figure(figsize=(12,15))\n",
    "sns.heatmap(confusion_matrix(y_test,predict),annot=True,cbar=True,cmap='coolwarm')"
   ]
  },
  {
   "cell_type": "markdown",
   "metadata": {},
   "source": [
    "**Random Forest Classifier**"
   ]
  },
  {
   "cell_type": "code",
   "execution_count": null,
   "metadata": {
    "execution": {
     "iopub.execute_input": "2022-04-10T09:11:33.796065Z",
     "iopub.status.busy": "2022-04-10T09:11:33.795706Z",
     "iopub.status.idle": "2022-04-10T09:11:34.023055Z",
     "shell.execute_reply": "2022-04-10T09:11:34.022174Z",
     "shell.execute_reply.started": "2022-04-10T09:11:33.796028Z"
    }
   },
   "outputs": [],
   "source": [
    "from sklearn.ensemble import RandomForestClassifier"
   ]
  },
  {
   "cell_type": "code",
   "execution_count": null,
   "metadata": {
    "execution": {
     "iopub.execute_input": "2022-04-10T09:11:34.024737Z",
     "iopub.status.busy": "2022-04-10T09:11:34.0244Z",
     "iopub.status.idle": "2022-04-10T09:11:36.48657Z",
     "shell.execute_reply": "2022-04-10T09:11:36.485927Z",
     "shell.execute_reply.started": "2022-04-10T09:11:34.02468Z"
    }
   },
   "outputs": [],
   "source": [
    "clf_rfc = RandomForestClassifier(n_estimators=700,random_state=0,n_jobs=-1,verbose=4)\n",
    "clf_rfc.fit(X_train,y_train)"
   ]
  },
  {
   "cell_type": "code",
   "execution_count": null,
   "metadata": {
    "execution": {
     "iopub.execute_input": "2022-04-10T09:11:36.488087Z",
     "iopub.status.busy": "2022-04-10T09:11:36.487825Z",
     "iopub.status.idle": "2022-04-10T09:11:36.898757Z",
     "shell.execute_reply": "2022-04-10T09:11:36.89811Z",
     "shell.execute_reply.started": "2022-04-10T09:11:36.488056Z"
    }
   },
   "outputs": [],
   "source": [
    "predict = clf_rfc.predict(X_test)"
   ]
  },
  {
   "cell_type": "code",
   "execution_count": null,
   "metadata": {
    "execution": {
     "iopub.execute_input": "2022-04-10T09:11:36.899807Z",
     "iopub.status.busy": "2022-04-10T09:11:36.89961Z",
     "iopub.status.idle": "2022-04-10T09:11:36.90771Z",
     "shell.execute_reply": "2022-04-10T09:11:36.906786Z",
     "shell.execute_reply.started": "2022-04-10T09:11:36.899783Z"
    }
   },
   "outputs": [],
   "source": [
    "print('Accuracy Score: {}%'.format(round(accuracy_score(y_test,predict)*100,2)))"
   ]
  },
  {
   "cell_type": "code",
   "execution_count": null,
   "metadata": {
    "execution": {
     "iopub.execute_input": "2022-04-10T09:11:36.910053Z",
     "iopub.status.busy": "2022-04-10T09:11:36.909142Z",
     "iopub.status.idle": "2022-04-10T09:11:36.957732Z",
     "shell.execute_reply": "2022-04-10T09:11:36.956818Z",
     "shell.execute_reply.started": "2022-04-10T09:11:36.909977Z"
    }
   },
   "outputs": [],
   "source": [
    "print(classification_report(y_test,predict))"
   ]
  },
  {
   "cell_type": "code",
   "execution_count": null,
   "metadata": {
    "execution": {
     "iopub.execute_input": "2022-04-10T09:11:36.959514Z",
     "iopub.status.busy": "2022-04-10T09:11:36.958975Z",
     "iopub.status.idle": "2022-04-10T09:11:43.016868Z",
     "shell.execute_reply": "2022-04-10T09:11:43.015826Z",
     "shell.execute_reply.started": "2022-04-10T09:11:36.959478Z"
    }
   },
   "outputs": [],
   "source": [
    "plt.figure(figsize=(12,15))\n",
    "sns.heatmap(confusion_matrix(y_test,predict),annot=True,cbar=True,cmap='coolwarm')"
   ]
  },
  {
   "cell_type": "markdown",
   "metadata": {},
   "source": [
    "**Function for prediction**"
   ]
  },
  {
   "cell_type": "code",
   "execution_count": null,
   "metadata": {
    "execution": {
     "iopub.execute_input": "2022-04-10T09:35:23.029704Z",
     "iopub.status.busy": "2022-04-10T09:35:23.029397Z",
     "iopub.status.idle": "2022-04-10T09:35:23.036392Z",
     "shell.execute_reply": "2022-04-10T09:35:23.035594Z",
     "shell.execute_reply.started": "2022-04-10T09:35:23.02967Z"
    }
   },
   "outputs": [],
   "source": [
    "def predict(s1,s2,s3,s4='vomiting',s5='vomiting',s6='vomiting',s7='vomiting'):\n",
    "    l = [s1,s2,s3,s4,s5,s6,s7]\n",
    "    print(l)\n",
    "    \n",
    "    x= np.array(df_s['Symptom'])\n",
    "    y= np.array(df_s['weight'])\n",
    "    for i in range(len(l)):\n",
    "        for j in range(len(x)):\n",
    "            if l[i]==x[j]:\n",
    "                l[i]=y[j]\n",
    "    res = [l]\n",
    "    pred = clf_rfc.predict(res)\n",
    "    print(pred[0])"
   ]
  },
  {
   "cell_type": "code",
   "execution_count": null,
   "metadata": {
    "execution": {
     "iopub.execute_input": "2022-04-10T09:35:26.256559Z",
     "iopub.status.busy": "2022-04-10T09:35:26.255832Z",
     "iopub.status.idle": "2022-04-10T09:35:26.469824Z",
     "shell.execute_reply": "2022-04-10T09:35:26.468944Z",
     "shell.execute_reply.started": "2022-04-10T09:35:26.256521Z"
    }
   },
   "outputs": [],
   "source": [
    "predict('itching' ,'skin rash', 'nodal skin eruptions')"
   ]
  },
  {
   "cell_type": "markdown",
   "metadata": {},
   "source": [
    "**Save Model**"
   ]
  },
  {
   "cell_type": "code",
   "execution_count": null,
   "metadata": {
    "execution": {
     "iopub.status.busy": "2022-04-10T09:11:43.14589Z",
     "iopub.status.idle": "2022-04-10T09:11:43.146675Z",
     "shell.execute_reply": "2022-04-10T09:11:43.14649Z",
     "shell.execute_reply.started": "2022-04-10T09:11:43.146464Z"
    }
   },
   "outputs": [],
   "source": [
    "import pickle\n",
    "pickle.dump(clf_rfc,open('RFC_symptoms.pkl','wb'))"
   ]
  }
 ],
 "metadata": {
  "kernelspec": {
   "display_name": "Python 3 (ipykernel)",
   "language": "python",
   "name": "python3"
  },
  "language_info": {
   "codemirror_mode": {
    "name": "ipython",
    "version": 3
   },
   "file_extension": ".py",
   "mimetype": "text/x-python",
   "name": "python",
   "nbconvert_exporter": "python",
   "pygments_lexer": "ipython3",
   "version": "3.9.7"
  }
 },
 "nbformat": 4,
 "nbformat_minor": 4
}
